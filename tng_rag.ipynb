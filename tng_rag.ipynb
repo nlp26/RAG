{
 "cells": [
  {
   "cell_type": "markdown",
   "id": "2b0bbdea",
   "metadata": {},
   "source": [
    "### Load CSV & Build Text"
   ]
  },
  {
   "cell_type": "code",
   "execution_count": null,
   "id": "ad4fd371",
   "metadata": {},
   "outputs": [],
   "source": [
    "import pandas as pd\n",
    "\n",
    "df = pd.read_csv(\"TNG.csv\")\n",
    "\n",
    "# Build combined texts with metadata \n",
    "combined_texts = (\n",
    "    df[\"who\"].fillna('Unknown').astype(str) + \": \" +\n",
    "    df[\"text\"].fillna('').astype(str) + \n",
    "    \" [Episode: \" + df[\"Episode\"].astype(str) + \", Scene: \" + df[\"scenenumber\"].astype(str) + \"]\"\n",
    ").tolist()"
   ]
  },
  {
   "cell_type": "markdown",
   "id": "94882376",
   "metadata": {},
   "source": [
    "### Chunk & Embed"
   ]
  },
  {
   "cell_type": "code",
   "execution_count": 2,
   "id": "30ca0a3b",
   "metadata": {},
   "outputs": [
    {
     "name": "stderr",
     "output_type": "stream",
     "text": [
      "/Users/ds/brushup/rag_env/lib/python3.10/site-packages/tqdm/auto.py:21: TqdmWarning: IProgress not found. Please update jupyter and ipywidgets. See https://ipywidgets.readthedocs.io/en/stable/user_install.html\n",
      "  from .autonotebook import tqdm as notebook_tqdm\n",
      "W0926 21:42:32.096138 1488 torch/distributed/elastic/multiprocessing/redirects.py:29] NOTE: Redirects are currently not supported in Windows or MacOs.\n"
     ]
    }
   ],
   "source": [
    "from langchain.text_splitter import RecursiveCharacterTextSplitter\n",
    "from sentence_transformers import SentenceTransformer\n",
    "\n",
    "splitter = RecursiveCharacterTextSplitter(chunk_size=800, chunk_overlap=50)\n",
    "chunks = sum([splitter.split_text(t) for t in combined_texts], [])\n",
    "\n",
    "model = SentenceTransformer(\"all-MiniLM-L6-v2\")\n",
    "embeddings = model.encode(chunks)"
   ]
  },
  {
   "cell_type": "markdown",
   "id": "618da06e",
   "metadata": {},
   "source": [
    "### Store in Vector DB"
   ]
  },
  {
   "cell_type": "code",
   "execution_count": 3,
   "id": "05c0771b",
   "metadata": {},
   "outputs": [],
   "source": [
    "import chromadb\n",
    "\n",
    "client = chromadb.Client()\n",
    "collection = client.create_collection(\"tng_docs\")\n",
    "\n",
    "for i, (chunk, embedding) in enumerate(zip(chunks, embeddings)):\n",
    "    collection.add(\n",
    "        documents=[chunk],\n",
    "        embeddings=[embedding.tolist()],\n",
    "        ids=[str(i)]\n",
    "    )"
   ]
  },
  {
   "cell_type": "markdown",
   "id": "2f3f38af",
   "metadata": {},
   "source": [
    "### Query & Retrieval Cell"
   ]
  },
  {
   "cell_type": "code",
   "execution_count": 25,
   "id": "e30fe2d4",
   "metadata": {},
   "outputs": [],
   "source": [
    "# RAG Query\n",
    "def semantic_search(query, top_n=5):\n",
    "    query_emb = model.encode([query])[0].tolist()\n",
    "    results = collection.query(\n",
    "        query_embeddings=[query_emb],\n",
    "        n_results=top_n\n",
    "    )\n",
    "    texts = results['documents'][0]\n",
    "    return texts"
   ]
  },
  {
   "cell_type": "markdown",
   "id": "da53789e",
   "metadata": {},
   "source": [
    "### Example usage:"
   ]
  },
  {
   "cell_type": "code",
   "execution_count": 26,
   "id": "9432e3c8",
   "metadata": {},
   "outputs": [
    {
     "name": "stdout",
     "output_type": "stream",
     "text": [
      "DATA:  I do not know for certain... but I believe that it is during my creative endeavors that I come closest to experiencing what it might be like to be human. [Episode: 10.0, Scene: 14 ]\n",
      "DATA:  I have always wished to be Human. I study people carefully in order to more closely approximate Human behavior. [Episode: 11.0, Scene: 69 ]\n",
      "DATA:  And you consider it important to please humans? [Episode: 12.0, Scene: 40 ]\n",
      "Unknown:  Data watches intently as Timothy again laughs MOS -- much more \"Human\" than we've ever seen Data act. OFF Data's face. [Episode: 11.0, Scene: 68 ]\n",
      "PICARD:  These are questions that mankind has been struggling with since creation. I am afraid your confusion, Data... is only human. [Episode: 12.0, Scene: 39 ]\n"
     ]
    }
   ],
   "source": [
    "query = \"What does Data say about being human?\"\n",
    "retrieved = semantic_search(query)\n",
    "for txt in retrieved:\n",
    "    print(txt)"
   ]
  },
  {
   "cell_type": "code",
   "execution_count": 12,
   "id": "7e712d1e",
   "metadata": {},
   "outputs": [
    {
     "data": {
      "text/plain": [
       "['PICARD:  About space. About the universe you are preparing to enter. [Episode: 15.0, Scene: 7  ]',\n",
       " 'PICARD:  So -- this energy, directed into space, then what? [Episode: 23.0, Scene: 22 ]',\n",
       " 'PICARD:  And into specific patterns of matter. Much as our transporters do. [Episode: 1.0, Scene: 233]',\n",
       " \"PICARD (V.O.):  to a place in the universe which is uncharted and unknown. Our ship's instruments... [Episode: 5.0, Scene: 62 ]\",\n",
       " \"PICARD (V.O.):  Captain's log, supplemental. While exploring a strange area in space without any form of matter or energy... [Episode: 2.0, Scene: 44 ]\"]"
      ]
     },
     "execution_count": 12,
     "metadata": {},
     "output_type": "execute_result"
    }
   ],
   "source": [
    "query = \"What does Picard say about Space?\"\n",
    "retrieved = semantic_search(query)   \n",
    "retrieved"
   ]
  },
  {
   "cell_type": "markdown",
   "id": "2c8dad3d",
   "metadata": {},
   "source": [
    "### LLM tools with ollama"
   ]
  },
  {
   "cell_type": "code",
   "execution_count": null,
   "id": "a245cba6",
   "metadata": {},
   "outputs": [
    {
     "name": "stdout",
     "output_type": "stream",
     "text": [
      "In the Star Trek: The Next Generation series, Jean-Luc Picard's dialogue about Data is a recurring theme throughout the show. Here are some quotes and context that illustrate his views on Data:\n",
      "\n",
      "* In Episode 4.0, \"Yesterday's Enterprise\" (Scene: 14), Picard says to Data, \"I am making you aware of the... situation.\" This implies that he thinks Data may be a threat or an anomaly, which is why he wants to inform him.\n",
      "* In Episode 17.0, \"The Measure of a Man\" (Scene: 78), Picard tells Data, \"You are my son, Data.\" This indicates that Picard feels a paternal bond with Data, despite their artificial creation and the fact that they were not biologically related.\n",
      "* In several episodes, including Episode 13.0, \"Tapestry\" (Scene: 26), Picard expresses concern about Data's humanity, particularly in situations where he is faced with tough moral choices. He seems to believe that Data's lack of emotions and instincts makes him less human.\n",
      "* In Episode 16.0, \"All Good Things...\" (Scene: 31), Picard says to Data, \"I don't know how much longer I can stand this... This is not the man I was when I made you.\" This suggests that he feels a sense of loss and frustration with Data's development as an individual.\n",
      "* In Episode 9.0, \"Sins of the Father\" (Scene: 22), Picard questions Data's existence and whether they are truly his son. He also expresses concerns about Data's potential for self-discovery and growth.\n",
      "\n",
      "Overall, Picard's views on Data reflect a paternalistic and sometimes paternalistic attitude towards him. While he acknowledges Data as an individual with his own thoughts and feelings, he also worries about the implications of their artificial creation and the consequences of their existence.\n"
     ]
    }
   ],
   "source": [
    "from ollama import chat\n",
    "\n",
    "def ollama_llm_answer(question, context, model_name=\"llama3.2:1b\"):\n",
    "    messages = [\n",
    "        {\"role\": \"system\", \"content\": \"You are an expert on Star Trek: The Next Generation.\"},\n",
    "        {\n",
    "            \"role\": \"user\",\n",
    "            \"content\": f\"Context:\\n{context}\\n\\nQuestion: {question}\\nAnswer:\"\n",
    "        }\n",
    "    ]\n",
    "    response = chat(model=model_name, messages=messages)\n",
    "    return response.message.content\n",
    "\n",
    "# Use after RAG retrieval:\n",
    "rag_query = \"What does Picard say about Data in TNG?\"\n",
    "retrieved = semantic_search(rag_query)\n",
    "context = \"\\n\".join(retrieved)\n",
    "answer = ollama_llm_answer(rag_query, context, model_name=\"llama3.2:1b\")  \n",
    "print(answer)"
   ]
  }
 ],
 "metadata": {
  "kernelspec": {
   "display_name": "rag_env",
   "language": "python",
   "name": "python3"
  },
  "language_info": {
   "codemirror_mode": {
    "name": "ipython",
    "version": 3
   },
   "file_extension": ".py",
   "mimetype": "text/x-python",
   "name": "python",
   "nbconvert_exporter": "python",
   "pygments_lexer": "ipython3",
   "version": "3.10.4"
  }
 },
 "nbformat": 4,
 "nbformat_minor": 5
}
